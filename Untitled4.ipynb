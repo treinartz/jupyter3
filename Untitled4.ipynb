{
 "cells": [
  {
   "cell_type": "code",
   "execution_count": 2,
   "id": "868bf412-5b38-4da9-aed2-a9fd7f09e2ab",
   "metadata": {
    "editable": true,
    "slideshow": {
     "slide_type": "slide"
    },
    "tags": []
   },
   "outputs": [],
   "source": [
    "# My Presentation\n",
    "## Introduction\n"
   ]
  },
  {
   "cell_type": "code",
   "execution_count": null,
   "id": "6a50204a-b66b-446e-bc61-3645b3f75a48",
   "metadata": {
    "editable": true,
    "slideshow": {
     "slide_type": "slide"
    },
    "tags": []
   },
   "outputs": [],
   "source": [
    "## Slide 1\n",
    "Content for slide 1.\n"
   ]
  },
  {
   "cell_type": "code",
   "execution_count": 1,
   "id": "c9de32ae-b23a-4b40-b921-a721d7296e68",
   "metadata": {
    "editable": true,
    "slideshow": {
     "slide_type": "slide"
    },
    "tags": []
   },
   "outputs": [
    {
     "data": {
      "application/vnd.jupyter.widget-view+json": {
       "model_id": "0ae8350755644f78a5575febc78d1f62",
       "version_major": 2,
       "version_minor": 0
      },
      "text/plain": [
       "Output(layout=Layout(max_height='200px', overflow='auto'))"
      ]
     },
     "metadata": {},
     "output_type": "display_data"
    }
   ],
   "source": [
    "import py5_tools\n",
    "\n",
    "def setup():\n",
    "    size(200, 200)\n",
    "    rect_mode(CENTER)\n",
    "\n",
    "def draw():    \n",
    "    rect(mouse_x, mouse_y, 10, 10)\n",
    "\n",
    "run_sketch(block=False)\n",
    "# create a 10 frame animated GIF saved to '/tmp/animated.gif'\n",
    "py5_tools.animated_gif('animated2.gif', count=10, period=1, duration=0.5)"
   ]
  },
  {
   "attachments": {
    "47311c7f-e5fc-420c-825c-aae1d1405d2c.gif": {
     "image/gif": "[encoded data removed]"
    }
   },
   "cell_type": "markdown",
   "id": "ce3ab598-afc4-4cd6-bdb5-497f1c4a6ca0",
   "metadata": {
    "editable": true,
    "slideshow": {
     "slide_type": "subslide"
    },
    "tags": []
   },
   "source": [
    "![animated2.gif](attachment:47311c7f-e5fc-420c-825c-aae1d1405d2c.gif)"
   ]
  },
  {
   "attachments": {
    "07c01f13-02c9-4075-aba7-c3eacb6d9e45.gif": {
     "image/gif": "[encoded data removed]"
    }
   },
   "cell_type": "markdown",
   "id": "7d2019a8-17b9-4b43-9432-ffaa75ab8fb5",
   "metadata": {
    "editable": true,
    "slideshow": {
     "slide_type": "slide"
    },
    "tags": []
   },
   "source": [
    "![animated2.gif](attachment:07c01f13-02c9-4075-aba7-c3eacb6d9e45.gif)<iframe src=\"https://docs.google.com/presentation/d/e/2PACX-1vTE5bXr0m-FpqI5-Uu2H-xSQqnBeNWTTmvZc7V-At7WnaFW0P-pxWaciEpdPTplQDxnuVXnvAOE_VZ4/embed?start=false&loop=false&delayms=3000\" frameborder=\"0\" width=\"480\" height=\"299\" allowfullscreen=\"true\" mozallowfullscreen=\"true\" webkitallowfullscreen=\"true\"></iframe>"
   ]
  },
  {
   "cell_type": "code",
   "execution_count": 4,
   "id": "db25ab65-ef89-4ce8-88b0-2b98405e33e5",
   "metadata": {
    "editable": true,
    "slideshow": {
     "slide_type": "slide"
    },
    "tags": []
   },
   "outputs": [
    {
     "data": {
      "text/html": [
       "\n",
       "        <iframe\n",
       "            width=\"960\"\n",
       "            height=\"600\"\n",
       "            src=\"https://docs.google.com/presentation/d/e/2PACX-1vTE5bXr0m-FpqI5-Uu2H-xSQqnBeNWTTmvZc7V-At7WnaFW0P-pxWaciEpdPTplQDxnuVXnvAOE_VZ4/embed?start=false&loop=false&delayms=3000\"\n",
       "            frameborder=\"0\"\n",
       "            allowfullscreen\n",
       "            \n",
       "        ></iframe>\n",
       "        "
      ],
      "text/plain": [
       "<IPython.lib.display.IFrame at 0x777e6d339990>"
      ]
     },
     "execution_count": 4,
     "metadata": {},
     "output_type": "execute_result"
    }
   ],
   "source": [
    "from IPython.display import IFrame\n",
    "IFrame(src=\"https://docs.google.com/presentation/d/e/2PACX-1vTE5bXr0m-FpqI5-Uu2H-xSQqnBeNWTTmvZc7V-At7WnaFW0P-pxWaciEpdPTplQDxnuVXnvAOE_VZ4/embed?start=false&loop=false&delayms=3000\", width=\"960\", height=\"600\")"
   ]
  },
  {
   "cell_type": "code",
   "execution_count": 6,
   "id": "215cfe8b-44c0-45e6-817d-bcd233b63f56",
   "metadata": {
    "editable": true,
    "slideshow": {
     "slide_type": "slide"
    },
    "tags": []
   },
   "outputs": [
    {
     "data": {
      "text/html": [
       "\n",
       "        <iframe\n",
       "            width=\"900\"\n",
       "            height=\"600\"\n",
       "            src=\"https://docs.google.com/presentation/d/e/2PACX-1vTE5bXr0m-FpqI5-Uu2H-xSQqnBeNWTTmvZc7V-At7WnaFW0P-pxWaciEpdPTplQDxnuVXnvAOE_VZ4/embed?start=false&loop=false&delayms=3000\"\n",
       "            frameborder=\"0\"\n",
       "            allowfullscreen\n",
       "            \n",
       "        ></iframe>\n",
       "        "
      ],
      "text/plain": [
       "<IPython.lib.display.IFrame at 0x7e67ac455710>"
      ]
     },
     "execution_count": 6,
     "metadata": {},
     "output_type": "execute_result"
    }
   ],
   "source": [
    "IFrame(src=\"https://docs.google.com/presentation/d/e/2PACX-1vTE5bXr0m-FpqI5-Uu2H-xSQqnBeNWTTmvZc7V-At7WnaFW0P-pxWaciEpdPTplQDxnuVXnvAOE_VZ4/embed?start=false&loop=false&delayms=3000\", width=\"900\", height=\"600\")"
   ]
  },
  {
   "cell_type": "markdown",
   "id": "a61de4cb-c411-4391-a197-721f687f32d7",
   "metadata": {
    "editable": true,
    "slideshow": {
     "slide_type": "slide"
    },
    "tags": []
   },
   "source": [
    "from IPython.display import IFrame\n",
    "\n",
    "IFrame(src=\"https://docs.google.com/presentation/d/e/2PACX-1vQXample123/embed?start=true&loop=true&delayms=3000\", width=\"960\", height=\"569\")\n"
   ]
  },
  {
   "cell_type": "markdown",
   "id": "875875f9-7ec2-41c6-a3b6-de4c9d768a91",
   "metadata": {
    "editable": true,
    "slideshow": {
     "slide_type": ""
    },
    "tags": []
   },
   "source": [
    "<iframe src=\"https://docs.google.com/presentation/d/e/2PACX-1vTE5bXr0m-FpqI5-Uu2H-xSQqnBeNWTTmvZc7V-At7WnaFW0P-pxWaciEpdPTplQDxnuVXnvAOE_VZ4/embed?start=false&loop=false&delayms=3000\" frameborder=\"0\" width=\"480\" height=\"299\" allowfullscreen=\"true\" mozallowfullscreen=\"true\" webkitallowfullscreen=\"true\"></iframe>"
   ]
  },
  {
   "cell_type": "code",
   "execution_count": 5,
   "id": "7c38331a-383b-41b2-9d26-0ecd065dcc39",
   "metadata": {
    "editable": true,
    "slideshow": {
     "slide_type": "slide"
    },
    "tags": []
   },
   "outputs": [
    {
     "ename": "NameError",
     "evalue": "name 'hello' is not defined",
     "output_type": "error",
     "traceback": [
      "\u001b[0;31m---------------------------------------------------------------------------\u001b[0m",
      "\u001b[0;31mNameError\u001b[0m                                 Traceback (most recent call last)",
      "Cell \u001b[0;32mIn[5], line 1\u001b[0m\n\u001b[0;32m----> 1\u001b[0m \u001b[43mhello\u001b[49m\n",
      "\u001b[0;31mNameError\u001b[0m: name 'hello' is not defined"
     ]
    }
   ],
   "source": [
    "hello"
   ]
  },
  {
   "cell_type": "code",
   "execution_count": null,
   "id": "cc356c12-dda5-490c-ad16-93a827bb037f",
   "metadata": {
    "editable": true,
    "slideshow": {
     "slide_type": "subslide"
    },
    "tags": []
   },
   "outputs": [],
   "source": [
    "goodbye"
   ]
  },
  {
   "cell_type": "code",
   "execution_count": null,
   "id": "5981b3f6-c899-4cfc-b495-3b593d2ab2f0",
   "metadata": {
    "editable": true,
    "slideshow": {
     "slide_type": "slide"
    },
    "tags": []
   },
   "outputs": [],
   "source": [
    "again"
   ]
  },
  {
   "cell_type": "markdown",
   "id": "6a32baae-c655-45d4-96c7-f5d52921543a",
   "metadata": {
    "editable": true,
    "slideshow": {
     "slide_type": "fragment"
    },
    "tags": []
   },
   "source": [
    "#this is a fragment"
   ]
  },
  {
   "cell_type": "code",
   "execution_count": null,
   "id": "3a028b3b-038d-400f-ad93-daaf5494cb5a",
   "metadata": {
    "editable": true,
    "slideshow": {
     "slide_type": "slide"
    },
    "tags": []
   },
   "outputs": [],
   "source": [
    "this is a slide"
   ]
  },
  {
   "cell_type": "code",
   "execution_count": 12,
   "id": "c07f17ec-1037-4411-b99c-6238908d93e0",
   "metadata": {
    "editable": true,
    "slideshow": {
     "slide_type": "subslide"
    },
    "tags": []
   },
   "outputs": [
    {
     "ename": "SyntaxError",
     "evalue": "invalid syntax (1147140578.py, line 1)",
     "output_type": "error",
     "traceback": [
      "\u001b[0;36m  Cell \u001b[0;32mIn[12], line 1\u001b[0;36m\u001b[0m\n\u001b[0;31m    this is a subslide\u001b[0m\n\u001b[0m              ^\u001b[0m\n\u001b[0;31mSyntaxError\u001b[0m\u001b[0;31m:\u001b[0m invalid syntax\n"
     ]
    }
   ],
   "source": [
    "this is a subslide"
   ]
  },
  {
   "cell_type": "code",
   "execution_count": 2,
   "id": "b9617ceb-94d7-4b12-b7f1-f464ec88f96c",
   "metadata": {
    "editable": true,
    "slideshow": {
     "slide_type": "slide"
    },
    "tags": []
   },
   "outputs": [
    {
     "data": {
      "application/vnd.jupyter.widget-view+json": {
       "model_id": "d1783276b57c44a3a402d08088f294a9",
       "version_major": 2,
       "version_minor": 0
      },
      "text/plain": [
       "Output(layout=Layout(max_height='200px', overflow='auto'))"
      ]
     },
     "metadata": {},
     "output_type": "display_data"
    }
   ],
   "source": [
    "import math\n",
    "import py5_tools\n",
    "vx = 2\n",
    "vy = 2\n",
    "x = 200\n",
    "y = 200\n",
    "speed = 0\n",
    "friction = 0.5\n",
    "angle = 0\n",
    "\n",
    "\n",
    "def setup():\n",
    "    size(400, 400)\n",
    "\n",
    "\n",
    "def draw():\n",
    "    global vx, vy, speed, x, y\n",
    "\n",
    "    # Set the background color\n",
    "    background(220)\n",
    "\n",
    "    # Set the fill color for the shape\n",
    "    fill(255, 0, 0)\n",
    "\n",
    "    # Calculate the difference between mouse and shape position\n",
    "    # dx = mouse_x - x\n",
    "    # dy = mouse_y - y\n",
    "\n",
    "    # Calculate the angle between the mouse and shape position\n",
    "    # angle = atan2(dy, dx)\n",
    "\n",
    "    # Calculate acceleration based on the difference between mouse and shape position\n",
    "    ax = math.cos(angle) * speed\n",
    "    ay = math.sin(angle) * speed\n",
    "\n",
    "    # Update the shape position based on acceleration\n",
    "    vx += ax\n",
    "    vy += ay\n",
    "\n",
    "    vx *= friction\n",
    "    vy *= friction\n",
    "\n",
    "    x += vx\n",
    "    y += vy\n",
    "\n",
    "    # Calculate the angle between the shape and the mouse\n",
    "    # angle3 = atan2(mouse_y - y, mouse_x - x)\n",
    "\n",
    "    # Translate the coordinate system to the shape's position\n",
    "    translate(x, y)\n",
    "\n",
    "    # Rotate the shape based on the angle\n",
    "    rotate(angle)\n",
    "\n",
    "    # Draw a triangle shape\n",
    "    triangle(-20, -8, 20, 0, -20, 8)\n",
    "\n",
    "    if x > width - 15:\n",
    "        x = width - 15\n",
    "        vx *= -1\n",
    "    elif x < 15:\n",
    "        x = 15\n",
    "        vx *= -1\n",
    "\n",
    "    if y > height - 15:\n",
    "        y = height - 15\n",
    "        vy *= -1\n",
    "    elif y < 15:\n",
    "        y = 15\n",
    "        vy *= -1\n",
    "\n",
    "\n",
    "def key_pressed():\n",
    "    global vx, vy, angle, speed\n",
    "    speed = 5\n",
    "    if key_code == UP:\n",
    "        angle = -PI / 2\n",
    "        vy -= 4\n",
    "    if key_code == DOWN:\n",
    "        angle = -3 * (PI / 2)\n",
    "        vy += 4\n",
    "    if key_code == LEFT:\n",
    "        angle = PI\n",
    "        vx -= 4\n",
    "    if key_code == RIGHT:\n",
    "        angle = TWO_PI\n",
    "        vx += 4\n",
    "\n",
    "\n",
    "def key_released():\n",
    "    global vx, vy, speed\n",
    "    vx = 0\n",
    "    speed = 0\n",
    "run_sketch()\n",
    "py5_tools.animated_gif('space_ship.gif', count=10, period=1, duration=0.5)\n"
   ]
  },
  {
   "attachments": {
    "10643b1b-08af-43f4-a924-f970b6a01e97.gif": {
     "image/gif": "[encoded data removed]"
    }
   },
   "cell_type": "markdown",
   "id": "d3716842-5907-4116-8acd-ab030e429025",
   "metadata": {
    "editable": true,
    "slideshow": {
     "slide_type": "subslide"
    },
    "tags": []
   },
   "source": [
    "![space_ship.gif](attachment:10643b1b-08af-43f4-a924-f970b6a01e97.gif)"
   ]
  },
  {
   "cell_type": "code",
   "execution_count": null,
   "id": "942046a3-0a11-4597-95ee-6beedb4a4b74",
   "metadata": {
    "editable": true,
    "slideshow": {
     "slide_type": "notes"
    },
    "tags": []
   },
   "outputs": [],
   "source": [
    "last slide that is a notes slide"
   ]
  }
 ],
 "metadata": {
  "kernelspec": {
   "display_name": "py5",
   "language": "python",
   "name": "py5"
  },
  "language_info": {
   "codemirror_mode": {
    "name": "ipython",
    "version": 3
   },
   "file_extension": ".py",
   "mimetype": "text/x-python",
   "name": "python",
   "nbconvert_exporter": "python",
   "pygments_lexer": "ipython3",
   "version": "3.11.9"
  },
  "toc": {
   "base_numbering": 1
  }
 },
 "nbformat": 4,
 "nbformat_minor": 5
}
